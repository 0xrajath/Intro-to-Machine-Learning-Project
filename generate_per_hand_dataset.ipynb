{
 "cells": [
  {
   "cell_type": "code",
   "execution_count": 1,
   "metadata": {},
   "outputs": [],
   "source": [
    "import csv"
   ]
  },
  {
   "cell_type": "code",
   "execution_count": 2,
   "metadata": {},
   "outputs": [],
   "source": [
    "# Python function to print permutations of a given list \n",
    "def permutation(lst): \n",
    "  \n",
    "    # If lst is empty then there are no permutations \n",
    "    if len(lst) == 0: \n",
    "        return [] \n",
    "  \n",
    "    # If there is only one element in lst then, only \n",
    "    # one permuatation is possible \n",
    "    if len(lst) == 1: \n",
    "        return [lst] \n",
    "  \n",
    "    # Find the permutations for lst if there are \n",
    "    # more than 1 characters \n",
    "  \n",
    "    l = [] # empty list that will store current permutation \n",
    "  \n",
    "    # Iterate the input(lst) and calculate the permutation \n",
    "    for i in range(len(lst)): \n",
    "       m = lst[i] \n",
    "  \n",
    "       # Extract lst[i] or m from the list.  remLst is \n",
    "       # remaining list \n",
    "       remLst = lst[:i] + lst[i+1:] \n",
    "  \n",
    "       # Generating all permutations where m is first \n",
    "       # element \n",
    "       for p in permutation(remLst): \n",
    "           l.append([m] + p) \n",
    "    return l "
   ]
  },
  {
   "cell_type": "code",
   "execution_count": 4,
   "metadata": {},
   "outputs": [],
   "source": [
    "#Method to give row as in the poker dataset\n",
    "def create_csv_row(hand_of_cards):\n",
    "    csv_row = []\n",
    "    for card in hand_of_cards:\n",
    "        if card[0]==\"Hearts\":\n",
    "            csv_row.append(1)\n",
    "        elif card[0]==\"Spades\":\n",
    "            csv_row.append(2)\n",
    "        elif card[0]==\"Diamonds\":\n",
    "            csv_row.append(3)\n",
    "        elif card[0]==\"Clubs\":\n",
    "            csv_row.append(4)\n",
    "            \n",
    "        if card[1]==\"Ace\":\n",
    "            csv_row.append(1)\n",
    "        elif card[1]==\"2\":\n",
    "            csv_row.append(2)\n",
    "        elif card[1]==\"3\":\n",
    "            csv_row.append(3)\n",
    "        elif card[1]==\"4\":\n",
    "            csv_row.append(4)\n",
    "        elif card[1]==\"5\":\n",
    "            csv_row.append(5)\n",
    "        elif card[1]==\"6\":\n",
    "            csv_row.append(6)\n",
    "        elif card[1]==\"7\":\n",
    "            csv_row.append(7)\n",
    "        elif card[1]==\"8\":\n",
    "            csv_row.append(8)\n",
    "        elif card[1]==\"9\":\n",
    "            csv_row.append(9)\n",
    "        elif card[1]==\"10\":\n",
    "            csv_row.append(10)\n",
    "        elif card[1]==\"Jack\":\n",
    "            csv_row.append(11)\n",
    "        elif card[1]==\"Queen\":\n",
    "            csv_row.append(12)\n",
    "        elif card[1]==\"King\":\n",
    "            csv_row.append(13)\n",
    "            \n",
    "        \n",
    "    return csv_row"
   ]
  },
  {
   "cell_type": "code",
   "execution_count": 5,
   "metadata": {},
   "outputs": [],
   "source": [
    "def print_to_csv(hand_combinations, hand_class , file_name):\n",
    "    for hand in hand_combinations:\n",
    "        perm_of_hand = permutation(hand)\n",
    "        for perm in perm_of_hand:\n",
    "            csv_row = create_csv_row(perm)\n",
    "            csv_row.append(hand_class)\n",
    "            #print(csv_row)\n",
    "            with open(file_name, 'a') as csvFile:\n",
    "                writer = csv.writer(csvFile)\n",
    "                writer.writerow(csv_row)\n",
    "\n",
    "    csvFile.close()"
   ]
  },
  {
   "cell_type": "code",
   "execution_count": 11,
   "metadata": {},
   "outputs": [],
   "source": [
    "suit = {1:\"Hearts\",2:\"Spades\",3:\"Diamonds\",4:\"Clubs\"}\n",
    "suit_2_num = {\"Hearts\":1,\"Spades\":2,\"Diamonds\":3,\"Clubs\":4}\n",
    "rank = {1:\"Ace\",2:\"2\",3:\"3\",4:\"4\",5:\"5\",6:\"6\",7:\"7\",8:\"8\",9:\"9\",10:\"10\",11:\"Jack\",12:\"Queen\",13:\"King\"}\n",
    "rank_2_num = {\"Ace\":1,\"2\":2,\"3\":3,\"4\":4,\"5\":5,\"6\":6,\"7\":7,\"8\":8,\"9\":9,\"10\":10,\"Jack\":11,\"Queen\":12,\"King\":13}\n",
    "deck = {1: (suit[1],rank[1]),2: (suit[1],rank[2]),3: (suit[1],rank[3]),4: (suit[1],rank[4]),5: (suit[1],rank[5]),\n",
    "       6: (suit[1],rank[6]),7: (suit[1],rank[7]),8: (suit[1],rank[8]),9: (suit[1],rank[9]),10: (suit[1],rank[10]),\n",
    "       11: (suit[1],rank[11]),12: (suit[1],rank[12]),13: (suit[1],rank[13]),\n",
    "        \n",
    "       14: (suit[2],rank[1]),15: (suit[2],rank[2]),16: (suit[2],rank[3]),17: (suit[2],rank[4]),18: (suit[2],rank[5]),\n",
    "       19: (suit[2],rank[6]),20: (suit[2],rank[7]),21: (suit[2],rank[8]),22: (suit[2],rank[9]),23: (suit[2],rank[10]),\n",
    "       24: (suit[2],rank[11]),25: (suit[2],rank[12]),26: (suit[2],rank[13]),\n",
    "    \n",
    "       27: (suit[3],rank[1]),28: (suit[3],rank[2]),29: (suit[3],rank[3]),30: (suit[3],rank[4]),31: (suit[3],rank[5]),\n",
    "       32: (suit[3],rank[6]),33: (suit[3],rank[7]),34: (suit[3],rank[8]),35: (suit[3],rank[9]),36: (suit[3],rank[10]),\n",
    "       37: (suit[3],rank[11]),38: (suit[3],rank[12]),39: (suit[3],rank[13]),\n",
    "                                                          \n",
    "       40: (suit[4],rank[1]),41: (suit[4],rank[2]),42: (suit[4],rank[3]),43: (suit[4],rank[4]),44: (suit[4],rank[5]),\n",
    "       45: (suit[4],rank[6]),46: (suit[4],rank[7]),47: (suit[4],rank[8]),48: (suit[4],rank[9]),49: (suit[4],rank[10]),\n",
    "       50: (suit[4],rank[11]),51: (suit[4],rank[12]),52: (suit[4],rank[13])}\n",
    "\n",
    "suit_2_deck = {suit[1]:[deck[1],deck[2],deck[3],deck[4],deck[5],deck[6],deck[7],deck[8],deck[9],deck[10],deck[11],deck[12],deck[13]],\n",
    "               suit[2]:[deck[14],deck[15],deck[16],deck[17],deck[18],deck[19],deck[20],deck[21],deck[22],deck[23],deck[24],deck[25],deck[26]],\n",
    "               suit[3]:[deck[27],deck[28],deck[29],deck[30],deck[31],deck[32],deck[33],deck[34],deck[35],deck[36],deck[37],deck[38],deck[39]],\n",
    "               suit[4]:[deck[40],deck[41],deck[42],deck[43],deck[44],deck[45],deck[46],deck[47],deck[48],deck[49],deck[50],deck[51],deck[52]]\n",
    "              }\n",
    "\n",
    "rank_2_deck = {rank[1]:[deck[1],deck[14],deck[27],deck[40]],\n",
    "               rank[2]:[deck[2],deck[15],deck[28],deck[41]],\n",
    "               rank[3]:[deck[3],deck[16],deck[29],deck[42]],\n",
    "               rank[4]:[deck[4],deck[17],deck[30],deck[43]],\n",
    "               rank[5]:[deck[5],deck[18],deck[31],deck[44]],\n",
    "               rank[6]:[deck[6],deck[19],deck[32],deck[45]],\n",
    "               rank[7]:[deck[7],deck[20],deck[33],deck[46]],\n",
    "               rank[8]:[deck[8],deck[21],deck[34],deck[47]],\n",
    "               rank[9]:[deck[9],deck[22],deck[35],deck[48]],\n",
    "               rank[10]:[deck[10],deck[23],deck[36],deck[49]],\n",
    "               rank[11]:[deck[11],deck[24],deck[37],deck[50]],\n",
    "               rank[12]:[deck[12],deck[25],deck[38],deck[51]],\n",
    "               rank[13]:[deck[13],deck[26],deck[39],deck[52]]      \n",
    "              }\n",
    "                                                          "
   ]
  },
  {
   "cell_type": "code",
   "execution_count": 8,
   "metadata": {},
   "outputs": [],
   "source": [
    "# Royal Flush permutations\n",
    "\n",
    "royal_flush = [[deck[1],deck[10],deck[11],deck[12],deck[13]],\n",
    "               [deck[14],deck[23],deck[24],deck[25],deck[26]],\n",
    "               [deck[27],deck[36],deck[37],deck[38],deck[39]],\n",
    "               [deck[40],deck[49],deck[50],deck[51],deck[52]]]\n",
    "\n",
    "print_to_csv(royal_flush,9,\"data/hand_data/royal_flush.csv\")\n"
   ]
  },
  {
   "cell_type": "code",
   "execution_count": 9,
   "metadata": {},
   "outputs": [],
   "source": [
    "# Straight Flush permutations\n",
    "\n",
    "straight_flush = []\n",
    "\n",
    "for i in range(1,5):\n",
    "    cards_in_suit = suit_2_deck[suit[i]]\n",
    "    for j in range(0,len(cards_in_suit)):\n",
    "        if rank_2_num[cards_in_suit[j][1]]>=5:\n",
    "            straight_flush.append([cards_in_suit[j-4],cards_in_suit[j-3],cards_in_suit[j-2],cards_in_suit[j-1],cards_in_suit[j]])\n",
    "                   \n",
    "print_to_csv(straight_flush,8,\"data/hand_data/straight_flush.csv\")\n",
    "#print(len(straight_flush))\n",
    "        "
   ]
  },
  {
   "cell_type": "code",
   "execution_count": 21,
   "metadata": {},
   "outputs": [],
   "source": [
    "# Four of a Kind permutations\n",
    "\n",
    "four_of_a_kind = []\n",
    "\n",
    "for i in range(1,14):\n",
    "    cards_in_rank = rank_2_deck[rank[i]]\n",
    "    #print(cards_in_rank)\n",
    "    for key, card in deck.items():\n",
    "        if card not in cards_in_rank:\n",
    "            four_of_a_kind.append(cards_in_rank+[card])\n",
    "\n",
    "print_to_csv(four_of_a_kind,7,\"data/hand_data/four_of_a_kind.csv\")\n",
    "#print(len(four_of_a_kind))\n",
    "\n"
   ]
  },
  {
   "cell_type": "code",
   "execution_count": null,
   "metadata": {},
   "outputs": [],
   "source": []
  },
  {
   "cell_type": "code",
   "execution_count": 57,
   "metadata": {},
   "outputs": [
    {
     "data": {
      "text/plain": [
       "[1, 1, 1, 10, 1, 11, 1, 12, 1, 13]"
      ]
     },
     "execution_count": 57,
     "metadata": {},
     "output_type": "execute_result"
    }
   ],
   "source": [
    "print_to_csv(permutation(royal_flush[0])[0])"
   ]
  },
  {
   "cell_type": "code",
   "execution_count": 49,
   "metadata": {},
   "outputs": [
    {
     "data": {
      "text/plain": [
       "[('Hearts', 'Ace'),\n",
       " ('Hearts', '2'),\n",
       " ('Hearts', '3'),\n",
       " ('Hearts', '4'),\n",
       " ('Hearts', '5'),\n",
       " ('Hearts', '6'),\n",
       " ('Hearts', '7'),\n",
       " ('Hearts', '8'),\n",
       " ('Hearts', '9'),\n",
       " ('Hearts', '10'),\n",
       " ('Hearts', 'Jack'),\n",
       " ('Hearts', 'Queen'),\n",
       " ('Hearts', 'King')]"
      ]
     },
     "execution_count": 49,
     "metadata": {},
     "output_type": "execute_result"
    }
   ],
   "source": [
    "suit_2_deck[suit[1]]"
   ]
  },
  {
   "cell_type": "code",
   "execution_count": null,
   "metadata": {},
   "outputs": [],
   "source": []
  }
 ],
 "metadata": {
  "kernelspec": {
   "display_name": "Python 3",
   "language": "python",
   "name": "python3"
  },
  "language_info": {
   "codemirror_mode": {
    "name": "ipython",
    "version": 3
   },
   "file_extension": ".py",
   "mimetype": "text/x-python",
   "name": "python",
   "nbconvert_exporter": "python",
   "pygments_lexer": "ipython3",
   "version": "3.6.5"
  }
 },
 "nbformat": 4,
 "nbformat_minor": 2
}
